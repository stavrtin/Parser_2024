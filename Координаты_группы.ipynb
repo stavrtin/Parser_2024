{
 "cells": [
  {
   "cell_type": "markdown",
   "id": "6123ea21",
   "metadata": {},
   "source": [
    "<div style=\"background-color:#B2EBF2; color:black;  font-size:10pt; border: 1px solid #35BDD0; border-radius: 5px; padding:10px\" /div>\n",
    " <b>Распределение адресов пациентов по географическим координатам (для привязки к участкам)"
   ]
  },
  {
   "cell_type": "code",
   "execution_count": 27,
   "id": "9716c6f2",
   "metadata": {},
   "outputs": [
    {
     "data": {
      "text/plain": [
       "'В программе реализован реальный кейс привязки пациентов, к которым совершаются визиты врачей в г.Москве.\\nДля определения визитов по районам и назначения бригад выделяются группы пациентов, объединенные территориальным признаком.\\nДалее возможно выделение дат, в которые необходим плановый визит, нанесение на карту и составление маршрута движения бригады. '"
      ]
     },
     "execution_count": 27,
     "metadata": {},
     "output_type": "execute_result"
    }
   ],
   "source": [
    "'''В программе реализован реальный кейс привязки пациентов, к которым совершаются визиты врачей в г.Москве.\n",
    "Для определения визитов по районам и назначения бригад выделяются группы пациентов, объединенные территориальным признаком.\n",
    "Далее возможно выделение дат, в которые необходим плановый визит, нанесение на карту и составление маршрута движения бригады. '''"
   ]
  },
  {
   "cell_type": "code",
   "execution_count": 4,
   "id": "61f8f6de",
   "metadata": {},
   "outputs": [],
   "source": [
    "# pip install pandas scikit-learn\n"
   ]
  },
  {
   "cell_type": "code",
   "execution_count": 1,
   "id": "7543db9b",
   "metadata": {},
   "outputs": [],
   "source": [
    "import pandas as pd\n",
    "import numpy as np\n",
    "from pathlib import Path\n",
    "from IPython.display import display_markdown\n",
    "import warnings\n",
    "warnings.filterwarnings('ignore')\n",
    "pd.set_option('display.max_columns', None)\n",
    "from sklearn.cluster import KMeans\n",
    "from sklearn.preprocessing import StandardScaler\n",
    "import matplotlib.pyplot as plt"
   ]
  },
  {
   "cell_type": "code",
   "execution_count": 2,
   "id": "83d075c0",
   "metadata": {},
   "outputs": [],
   "source": [
    "df_emias = pd.read_excel('Протокол ЕМИАС все визиты_20241225.xlsx')"
   ]
  },
  {
   "cell_type": "code",
   "execution_count": 3,
   "id": "75b852d6",
   "metadata": {},
   "outputs": [],
   "source": [
    "df_odrp = pd.read_excel('ОВПРП_адреса_1.xlsx')"
   ]
  },
  {
   "cell_type": "code",
   "execution_count": 4,
   "id": "47b45b30",
   "metadata": {},
   "outputs": [
    {
     "data": {
      "text/plain": [
       "Index(['Дата включения пациента в Реестр', 'ФИО пациента', 'ID пациента',\n",
       "       'Пол', 'Дата рождения', 'Гражданский статус',\n",
       "       'Адрес регистрации по месту жительства',\n",
       "       'Адрес регистрации по месту пребывания в Москве или адрес фактического места жительства в Москве',\n",
       "       'Вид документа', 'Номер документа, удостоверяющего личность', 'СНИЛС',\n",
       "       'Полис ОМС', 'Инвалидность', 'ФИО контактного лица',\n",
       "       'Степень родства контактного лица',\n",
       "       'Контактный телефон контактного лица', 'Наличие социального работника',\n",
       "       'Контактные данные социального работника',\n",
       "       'Прикрепление к патронажному участку ',\n",
       "       'Дата прикрепления к патронажному участку',\n",
       "       'МО патронажного прикрепления',\n",
       "       'МО прикрепления онкологического профиля',\n",
       "       'Медицинское заключение о наличии у пациента показаний для оказания паллиативной медицинской помощи ',\n",
       "       'Дата выдачи заключения',\n",
       "       'Наименование медицинской организации, выдавшей медицинское заключение',\n",
       "       'Разрешение ДЗМ на оказание паллиативной медицинской помощи пациенту ',\n",
       "       'Дата выдачи разрешения', 'Номер разрешения',\n",
       "       'Медицинская организация, к которой прикреплен пациент для оказания паллиативной специализированной медицинской помощи в амбулаторных условиях',\n",
       "       'Основной диагноз', 'Задание по пациенту', 'Трахеостома',\n",
       "       'Респираторная поддержка', 'Болевой синдром',\n",
       "       'Категория пациента (оценка до первичного визита)',\n",
       "       'Плановая дата первичного визита 24 часа',\n",
       "       'Плановая дата первичного визита 72 часа',\n",
       "       'Плановая дата госпитализации', 'Текущий статус пациента',\n",
       "       'Причина прекращения оказания ПМП',\n",
       "       'Причины невыполнения «задания по пациенту» для первичных пациентов',\n",
       "       'Причина прекращения на сопровождении для пациентов на учете',\n",
       "       'Дата прекращения оказания ПМП', 'Дата смерти',\n",
       "       'Фактическая дата первичного выезда врача 24 часа из протокола осмотра ЕМИАС',\n",
       "       'Фактическая дата первичного выезда врача 72 часа из протокола осмотра ЕМИАС',\n",
       "       'Дата фактической госпитализации из  ЕМИАС',\n",
       "       'Последний визит врача из протокола осмотра ЕМИАС',\n",
       "       'Плановая дата следующего визита из протокола осмотра ЕМИАС',\n",
       "       'Дата  дозвона', 'Комментарии', 'Unnamed: 51', 'Unnamed: 52',\n",
       "       'Unnamed: 53', 'Unnamed: 54', 'Unnamed: 55', 'Unnamed: 56',\n",
       "       'Unnamed: 57', 'Unnamed: 58', 'Unnamed: 59', 'Ключ', 'Unnamed: 61',\n",
       "       'Адрес Yandex_adres', 'Долгота_adres', 'Широта_adres', 'Геоточки_adres',\n",
       "       'Ключ_adres', 'Есть кв.'],\n",
       "      dtype='object')"
      ]
     },
     "execution_count": 4,
     "metadata": {},
     "output_type": "execute_result"
    }
   ],
   "source": [
    "df_odrp.columns"
   ]
  },
  {
   "cell_type": "code",
   "execution_count": 5,
   "id": "5f298888",
   "metadata": {},
   "outputs": [],
   "source": [
    "df_em_i_od = df_emias.merge(df_odrp[['ФИО пациента','ID пациента','Полис ОМС','Адрес Yandex_adres', 'Долгота_adres', 'Широта_adres', 'Геоточки_adres',]], how='left', left_on='ID пациента', right_on='ID пациента')"
   ]
  },
  {
   "cell_type": "code",
   "execution_count": 6,
   "id": "3e989cd7",
   "metadata": {},
   "outputs": [
    {
     "data": {
      "text/plain": [
       "(1685, 41)"
      ]
     },
     "execution_count": 6,
     "metadata": {},
     "output_type": "execute_result"
    }
   ],
   "source": [
    "df_em_i_od_full = df_em_i_od[~df_em_i_od['ФИО пациента'].isna()]\n",
    "df_em_i_od_full.shape"
   ]
  },
  {
   "cell_type": "code",
   "execution_count": 16,
   "id": "44cd0e46",
   "metadata": {},
   "outputs": [
    {
     "data": {
      "text/plain": [
       "(465, 41)"
      ]
     },
     "execution_count": 16,
     "metadata": {},
     "output_type": "execute_result"
    }
   ],
   "source": [
    "# ---------------------------------------------------------- \n",
    "# df_5bud_viz_odrp = df_em_i_od_full[df_em_i_od_full['план_дата_визит_врач'].isin(['2024-12-26','2024-12-27','2024-12-28','2024-12-29','2024-12-30'])]\n",
    "df_5bud_viz_odrp = df_em_i_od_full[df_em_i_od_full['план_дата_визит_врач'].isna()]\n",
    "df_5bud_viz_odrp.shape"
   ]
  },
  {
   "cell_type": "code",
   "execution_count": 17,
   "id": "8988ce6f",
   "metadata": {},
   "outputs": [],
   "source": [
    "# -------------------------------------------------------------- Считаем категории -----------------------------"
   ]
  },
  {
   "cell_type": "code",
   "execution_count": 18,
   "id": "ff552d33",
   "metadata": {},
   "outputs": [],
   "source": [
    "def delete_vibros(df): \n",
    "    # Вычисляем IQR для долготы и широты\n",
    "    Q1_longitude = df['Долгота_adres'].quantile(0.25)\n",
    "    Q3_longitude = df['Долгота_adres'].quantile(0.75)\n",
    "    IQR_longitude = Q3_longitude - Q1_longitude\n",
    "\n",
    "    Q1_latitude = df['Широта_adres'].quantile(0.25)\n",
    "    Q3_latitude = df['Широта_adres'].quantile(0.75)\n",
    "    IQR_latitude = Q3_latitude - Q1_latitude\n",
    "\n",
    "    # Определяем границы для выбросов\n",
    "    lower_bound_longitude = Q1_longitude - 1.5 * IQR_longitude\n",
    "    upper_bound_longitude = Q3_longitude + 1.5 * IQR_longitude\n",
    "\n",
    "    lower_bound_latitude = Q1_latitude - 1.5 * IQR_latitude\n",
    "    upper_bound_latitude = Q3_latitude + 1.5 * IQR_latitude\n",
    "\n",
    "    # Фильтруем DataFrame, чтобы удалить выбросы\n",
    "    df_filtered = df[\n",
    "        (df['Долгота_adres'] >= lower_bound_longitude) & (df['Долгота_adres'] <= upper_bound_longitude) &\n",
    "        (df['Широта_adres'] >= lower_bound_latitude) & (df['Широта_adres'] <= upper_bound_latitude)\n",
    "    ]\n",
    "\n",
    "    return df_filtered"
   ]
  },
  {
   "cell_type": "code",
   "execution_count": 19,
   "id": "96e4e7eb",
   "metadata": {},
   "outputs": [],
   "source": [
    "# ------------------ Откинем выбросы ----------------------\n",
    "df_5bud_viz_odrp = delete_vibros(df_5bud_viz_odrp)"
   ]
  },
  {
   "cell_type": "code",
   "execution_count": 20,
   "id": "7b38fd76",
   "metadata": {},
   "outputs": [],
   "source": [
    "# Извлеките координаты\n",
    "coordinates = df_5bud_viz_odrp[['Долгота_adres', 'Широта_adres']].values"
   ]
  },
  {
   "cell_type": "code",
   "execution_count": 21,
   "id": "3e70180b",
   "metadata": {},
   "outputs": [],
   "source": [
    "# Стандартизируем данные\n",
    "scaler = StandardScaler()\n",
    "coordinates_scaled = scaler.fit_transform(coordinates)"
   ]
  },
  {
   "cell_type": "code",
   "execution_count": 22,
   "id": "a6b39800",
   "metadata": {},
   "outputs": [],
   "source": [
    "# Применяем K-Means\n",
    "kmeans = KMeans(n_clusters=3, random_state=42)  # Указываем количество кластеров\n",
    "df_5bud_viz_odrp['cluster'] = kmeans.fit_predict(coordinates_scaled)"
   ]
  },
  {
   "cell_type": "code",
   "execution_count": 23,
   "id": "16255fe6",
   "metadata": {},
   "outputs": [
    {
     "data": {
      "text/plain": [
       "array([0, 1, 2])"
      ]
     },
     "execution_count": 23,
     "metadata": {},
     "output_type": "execute_result"
    }
   ],
   "source": [
    "df_5bud_viz_odrp['cluster'].unique()"
   ]
  },
  {
   "cell_type": "code",
   "execution_count": 24,
   "id": "cf148364",
   "metadata": {},
   "outputs": [
    {
     "data": {
      "text/plain": [
       "(446, 42)"
      ]
     },
     "execution_count": 24,
     "metadata": {},
     "output_type": "execute_result"
    }
   ],
   "source": [
    "df_5bud_viz_odrp.shape"
   ]
  },
  {
   "cell_type": "code",
   "execution_count": 25,
   "id": "46931070",
   "metadata": {},
   "outputs": [
    {
     "data": {
      "image/png": "[encoded data removed]",
      "text/plain": [
       "<Figure size 640x480 with 1 Axes>"
      ]
     },
     "metadata": {},
     "output_type": "display_data"
    }
   ],
   "source": [
    "# Построение графика точек\n",
    "for cluster in df_5bud_viz_odrp['cluster'].unique():\n",
    "    cluster_df = df_5bud_viz_odrp[df_5bud_viz_odrp['cluster'] == cluster]\n",
    "    plt.scatter(cluster_df['Долгота_adres'], cluster_df['Широта_adres'], label=f'Cluster {cluster}')\n",
    "\n",
    "plt.xlabel('Долгота')\n",
    "plt.ylabel('Широта')\n",
    "plt.title('График точек')\n",
    "plt.legend()\n",
    "plt.show()"
   ]
  },
  {
   "cell_type": "code",
   "execution_count": 131,
   "id": "3ba41554",
   "metadata": {},
   "outputs": [],
   "source": [
    "df_5bud_viz_odrp.to_excel('df_5bud_viz_odrp.xlsx')"
   ]
  }
 ],
 "metadata": {
  "kernelspec": {
   "display_name": "base",
   "language": "python",
   "name": "python3"
  },
  "language_info": {
   "codemirror_mode": {
    "name": "ipython",
    "version": 3
   },
   "file_extension": ".py",
   "mimetype": "text/x-python",
   "name": "python",
   "nbconvert_exporter": "python",
   "pygments_lexer": "ipython3",
   "version": "3.11.5"
  }
 },
 "nbformat": 4,
 "nbformat_minor": 5
}
